{
 "cells": [
  {
   "cell_type": "markdown",
   "metadata": {},
   "source": [
    "## 신경망 스타일 트랜스퍼\n",
    "1. 데이터 로딩\n",
    "2. VGG19모델 생성\n",
    "3. 콘텐츠 오차 정의\n",
    "4. 스타일 오차 정의\n",
    "5. VGG 모델의 레이어들이 오차 추출\n",
    "6. 옵티마이저 생성\n",
    "7. 학습-콘텐츠 이미지와 유사한 이미지, 스타일 이미지와 유사한 스타일 생성"
   ]
  },
  {
   "cell_type": "markdown",
   "metadata": {},
   "source": [
    "## 1.데이터 로딩"
   ]
  },
  {
   "cell_type": "code",
   "execution_count": 2,
   "metadata": {},
   "outputs": [],
   "source": [
    "import torch\n",
    "from torchvision import transforms\n",
    "\n",
    "\n",
    "import matplotlib.pyplot as plt\n",
    "import numpy as np"
   ]
  },
  {
   "cell_type": "code",
   "execution_count": 3,
   "metadata": {},
   "outputs": [
    {
     "ename": "NameError",
     "evalue": "name 'Lambda' is not defined",
     "output_type": "error",
     "traceback": [
      "\u001b[0;31m---------------------------------------------------------------------------\u001b[0m",
      "\u001b[0;31mNameError\u001b[0m                                 Traceback (most recent call last)",
      "\u001b[1;32m/workspace/newworld/makepractice/pytorch_basic/GAN.ipynb Cell 4'\u001b[0m in \u001b[0;36m<cell line: 7>\u001b[0;34m()\u001b[0m\n\u001b[1;32m      <a href='vscode-notebook-cell://attached-container%2B7b22636f6e7461696e65724e616d65223a222f6e6577776f726c64222c2273657474696e6773223a7b22686f7374223a227373683a2f2f3139322e3136382e302e323134227d7d/workspace/newworld/makepractice/pytorch_basic/GAN.ipynb#ch0000006vscode-remote?line=3'>4</a>\u001b[0m is_cuda \u001b[39m=\u001b[39m torch\u001b[39m.\u001b[39mcuda\u001b[39m.\u001b[39mis_available()\n\u001b[1;32m      <a href='vscode-notebook-cell://attached-container%2B7b22636f6e7461696e65724e616d65223a222f6e6577776f726c64222c2273657474696e6773223a7b22686f7374223a227373683a2f2f3139322e3136382e302e323134227d7d/workspace/newworld/makepractice/pytorch_basic/GAN.ipynb#ch0000006vscode-remote?line=5'>6</a>\u001b[0m \u001b[39m#VGG 모델 이용 학습할 수 있도록 이미지 변환\u001b[39;00m\n\u001b[1;32m      <a href='vscode-notebook-cell://attached-container%2B7b22636f6e7461696e65724e616d65223a222f6e6577776f726c64222c2273657474696e6773223a7b22686f7374223a227373683a2f2f3139322e3136382e302e323134227d7d/workspace/newworld/makepractice/pytorch_basic/GAN.ipynb#ch0000006vscode-remote?line=6'>7</a>\u001b[0m prep \u001b[39m=\u001b[39m transforms\u001b[39m.\u001b[39mCompose([\n\u001b[1;32m      <a href='vscode-notebook-cell://attached-container%2B7b22636f6e7461696e65724e616d65223a222f6e6577776f726c64222c2273657474696e6773223a7b22686f7374223a227373683a2f2f3139322e3136382e302e323134227d7d/workspace/newworld/makepractice/pytorch_basic/GAN.ipynb#ch0000006vscode-remote?line=7'>8</a>\u001b[0m             transforms\u001b[39m.\u001b[39mResize(imsize),\n\u001b[1;32m      <a href='vscode-notebook-cell://attached-container%2B7b22636f6e7461696e65724e616d65223a222f6e6577776f726c64222c2273657474696e6773223a7b22686f7374223a227373683a2f2f3139322e3136382e302e323134227d7d/workspace/newworld/makepractice/pytorch_basic/GAN.ipynb#ch0000006vscode-remote?line=8'>9</a>\u001b[0m             transforms\u001b[39m.\u001b[39mToTensor(),\n\u001b[1;32m     <a href='vscode-notebook-cell://attached-container%2B7b22636f6e7461696e65724e616d65223a222f6e6577776f726c64222c2273657474696e6773223a7b22686f7374223a227373683a2f2f3139322e3136382e302e323134227d7d/workspace/newworld/makepractice/pytorch_basic/GAN.ipynb#ch0000006vscode-remote?line=9'>10</a>\u001b[0m             \u001b[39m#BGR 변환\u001b[39;00m\n\u001b[0;32m---> <a href='vscode-notebook-cell://attached-container%2B7b22636f6e7461696e65724e616d65223a222f6e6577776f726c64222c2273657474696e6773223a7b22686f7374223a227373683a2f2f3139322e3136382e302e323134227d7d/workspace/newworld/makepractice/pytorch_basic/GAN.ipynb#ch0000006vscode-remote?line=10'>11</a>\u001b[0m             transforms,Lambda(\u001b[39mlambda\u001b[39;00m x: x[torch\u001b[39m.\u001b[39mLongTensor([\u001b[39m2\u001b[39m,\u001b[39m1\u001b[39m,\u001b[39m0\u001b[39m])]),\n\u001b[1;32m     <a href='vscode-notebook-cell://attached-container%2B7b22636f6e7461696e65724e616d65223a222f6e6577776f726c64222c2273657474696e6773223a7b22686f7374223a227373683a2f2f3139322e3136382e302e323134227d7d/workspace/newworld/makepractice/pytorch_basic/GAN.ipynb#ch0000006vscode-remote?line=11'>12</a>\u001b[0m             transforms\u001b[39m.\u001b[39mNormalize(\n\u001b[1;32m     <a href='vscode-notebook-cell://attached-container%2B7b22636f6e7461696e65724e616d65223a222f6e6577776f726c64222c2273657474696e6773223a7b22686f7374223a227373683a2f2f3139322e3136382e302e323134227d7d/workspace/newworld/makepractice/pytorch_basic/GAN.ipynb#ch0000006vscode-remote?line=12'>13</a>\u001b[0m                 \u001b[39m#이미지넷 평균을 빼기\u001b[39;00m\n\u001b[1;32m     <a href='vscode-notebook-cell://attached-container%2B7b22636f6e7461696e65724e616d65223a222f6e6577776f726c64222c2273657474696e6773223a7b22686f7374223a227373683a2f2f3139322e3136382e302e323134227d7d/workspace/newworld/makepractice/pytorch_basic/GAN.ipynb#ch0000006vscode-remote?line=13'>14</a>\u001b[0m                 mean \u001b[39m=\u001b[39m [\u001b[39m0.40760392\u001b[39m, \u001b[39m0.45795686\u001b[39m, \u001b[39m0.48501961\u001b[39m],\n\u001b[1;32m     <a href='vscode-notebook-cell://attached-container%2B7b22636f6e7461696e65724e616d65223a222f6e6577776f726c64222c2273657474696e6773223a7b22686f7374223a227373683a2f2f3139322e3136382e302e323134227d7d/workspace/newworld/makepractice/pytorch_basic/GAN.ipynb#ch0000006vscode-remote?line=14'>15</a>\u001b[0m                 std \u001b[39m=\u001b[39m [\u001b[39m1\u001b[39m,\u001b[39m1\u001b[39m,\u001b[39m1\u001b[39m]),\n\u001b[1;32m     <a href='vscode-notebook-cell://attached-container%2B7b22636f6e7461696e65724e616d65223a222f6e6577776f726c64222c2273657474696e6773223a7b22686f7374223a227373683a2f2f3139322e3136382e302e323134227d7d/workspace/newworld/makepractice/pytorch_basic/GAN.ipynb#ch0000006vscode-remote?line=15'>16</a>\u001b[0m             transforms\u001b[39m.\u001b[39mLambda(\u001b[39mlambda\u001b[39;00m x: x\u001b[39m.\u001b[39mmul_(\u001b[39m1.\u001b[39m\u001b[39m/\u001b[39m\u001b[39m255\u001b[39m)),\n\u001b[1;32m     <a href='vscode-notebook-cell://attached-container%2B7b22636f6e7461696e65724e616d65223a222f6e6577776f726c64222c2273657474696e6773223a7b22686f7374223a227373683a2f2f3139322e3136382e302e323134227d7d/workspace/newworld/makepractice/pytorch_basic/GAN.ipynb#ch0000006vscode-remote?line=16'>17</a>\u001b[0m             ])\n\u001b[1;32m     <a href='vscode-notebook-cell://attached-container%2B7b22636f6e7461696e65724e616d65223a222f6e6577776f726c64222c2273657474696e6773223a7b22686f7374223a227373683a2f2f3139322e3136382e302e323134227d7d/workspace/newworld/makepractice/pytorch_basic/GAN.ipynb#ch0000006vscode-remote?line=17'>18</a>\u001b[0m \u001b[39m# 생성된 이미지를 시각화할 수 있는 형식으로 다시 변환\u001b[39;00m\n\u001b[1;32m     <a href='vscode-notebook-cell://attached-container%2B7b22636f6e7461696e65724e616d65223a222f6e6577776f726c64222c2273657474696e6773223a7b22686f7374223a227373683a2f2f3139322e3136382e302e323134227d7d/workspace/newworld/makepractice/pytorch_basic/GAN.ipynb#ch0000006vscode-remote?line=19'>20</a>\u001b[0m postpa \u001b[39m=\u001b[39m transforms\u001b[39m.\u001b[39mComposr([\n\u001b[1;32m     <a href='vscode-notebook-cell://attached-container%2B7b22636f6e7461696e65724e616d65223a222f6e6577776f726c64222c2273657474696e6773223a7b22686f7374223a227373683a2f2f3139322e3136382e302e323134227d7d/workspace/newworld/makepractice/pytorch_basic/GAN.ipynb#ch0000006vscode-remote?line=20'>21</a>\u001b[0m         transforms\u001b[39m.\u001b[39mLambda(\u001b[39mlambda\u001b[39;00m x:x\u001b[39m.\u001b[39mmul_(\u001b[39m1.\u001b[39m\u001b[39m/\u001b[39m\u001b[39m255\u001b[39m)),\n\u001b[1;32m     <a href='vscode-notebook-cell://attached-container%2B7b22636f6e7461696e65724e616d65223a222f6e6577776f726c64222c2273657474696e6773223a7b22686f7374223a227373683a2f2f3139322e3136382e302e323134227d7d/workspace/newworld/makepractice/pytorch_basic/GAN.ipynb#ch0000006vscode-remote?line=21'>22</a>\u001b[0m         transforms\u001b[39m.\u001b[39mNormalize(\n\u001b[0;32m   (...)\u001b[0m\n\u001b[1;32m     <a href='vscode-notebook-cell://attached-container%2B7b22636f6e7461696e65724e616d65223a222f6e6577776f726c64222c2273657474696e6773223a7b22686f7374223a227373683a2f2f3139322e3136382e302e323134227d7d/workspace/newworld/makepractice/pytorch_basic/GAN.ipynb#ch0000006vscode-remote?line=26'>27</a>\u001b[0m         transforms\u001b[39m.\u001b[39mLambda(\u001b[39mlambda\u001b[39;00m x: x[torch\u001b[39m.\u001b[39mLongTensor([\u001b[39m2\u001b[39m,\u001b[39m1\u001b[39m,\u001b[39m0\u001b[39m])]),\n\u001b[1;32m     <a href='vscode-notebook-cell://attached-container%2B7b22636f6e7461696e65724e616d65223a222f6e6577776f726c64222c2273657474696e6773223a7b22686f7374223a227373683a2f2f3139322e3136382e302e323134227d7d/workspace/newworld/makepractice/pytorch_basic/GAN.ipynb#ch0000006vscode-remote?line=27'>28</a>\u001b[0m ])\n",
      "\u001b[0;31mNameError\u001b[0m: name 'Lambda' is not defined"
     ]
    }
   ],
   "source": [
    "# 이미지 크기 고정\n",
    "# GPU 사용안할경우 크기를 더 줄임\n",
    "imsize = 512\n",
    "is_cuda = torch.cuda.is_available()\n",
    "\n",
    "#VGG 모델 이용 학습할 수 있도록 이미지 변환\n",
    "prep = transforms.Compose([\n",
    "            transforms.Resize(imsize),\n",
    "            transforms.ToTensor(),\n",
    "            #BGR 변환\n",
    "            transforms,Lambda(lambda x: x[torch.LongTensor([2,1,0])]),\n",
    "            transforms.Normalize(\n",
    "                #이미지넷 평균을 빼기\n",
    "                mean = [0.40760392, 0.45795686, 0.48501961],\n",
    "                std = [1,1,1]),\n",
    "            transforms.Lambda(lambda x: x.mul_(1./255)),\n",
    "            ])\n",
    "# 생성된 이미지를 시각화할 수 있는 형식으로 다시 변환\n",
    "\n",
    "postpa = transforms.Composr([\n",
    "        transforms.Lambda(lambda x:x.mul_(1./255)),\n",
    "        transforms.Normalize(\n",
    "            #이미지넷 평균 더하기\n",
    "            mean=[-0.40760392, -0.45795686, -0.48501961],\n",
    "            std=[1,1,1]\n",
    "        ),\n",
    "        transforms.Lambda(lambda x: x[torch.LongTensor([2,1,0])]),\n",
    "])\n",
    "postpb = transforms.Compose([transforms.ToPILImage()])\n",
    "\n",
    "# 이미지 데이터가 허용 범위를 벗어나지 않도록 조정\n",
    "# 결과 범위를 [0,1]로 한정\n",
    "def postp(tensor):\n",
    "    t = postpa(tensor)\n",
    "    t[t>1] = 1\n",
    "    t[t<0] = 0\n",
    "    img = postpb(t)\n",
    "    return img\n",
    "\n",
    "# 데이터 로딩을 쉽게하는 유틸리티 함수\n",
    "def image_loader(image_name):\n",
    "    image = Image.open(image_name)\n",
    "    image = Variable(prep(image))\n",
    "\n",
    "    image = image.unsqueeze(0)\n",
    "    return image"
   ]
  },
  {
   "cell_type": "code",
   "execution_count": 4,
   "metadata": {},
   "outputs": [
    {
     "ename": "NameError",
     "evalue": "name 'vgg19' is not defined",
     "output_type": "error",
     "traceback": [
      "\u001b[0;31m---------------------------------------------------------------------------\u001b[0m",
      "\u001b[0;31mNameError\u001b[0m                                 Traceback (most recent call last)",
      "\u001b[1;32m/workspace/newworld/makepractice/pytorch_basic/GAN.ipynb Cell 5'\u001b[0m in \u001b[0;36m<cell line: 3>\u001b[0;34m()\u001b[0m\n\u001b[1;32m      <a href='vscode-notebook-cell://attached-container%2B7b22636f6e7461696e65724e616d65223a222f6e6577776f726c64222c2273657474696e6773223a7b22686f7374223a227373683a2f2f3139322e3136382e302e323134227d7d/workspace/newworld/makepractice/pytorch_basic/GAN.ipynb#ch0000005vscode-remote?line=0'>1</a>\u001b[0m \u001b[39m## 2. VGG 모델 생성\u001b[39;00m\n\u001b[1;32m      <a href='vscode-notebook-cell://attached-container%2B7b22636f6e7461696e65724e616d65223a222f6e6577776f726c64222c2273657474696e6773223a7b22686f7374223a227373683a2f2f3139322e3136382e302e323134227d7d/workspace/newworld/makepractice/pytorch_basic/GAN.ipynb#ch0000005vscode-remote?line=1'>2</a>\u001b[0m \u001b[39m# 사전 학습된 VGG 모델 생성\u001b[39;00m\n\u001b[0;32m----> <a href='vscode-notebook-cell://attached-container%2B7b22636f6e7461696e65724e616d65223a222f6e6577776f726c64222c2273657474696e6773223a7b22686f7374223a227373683a2f2f3139322e3136382e302e323134227d7d/workspace/newworld/makepractice/pytorch_basic/GAN.ipynb#ch0000005vscode-remote?line=2'>3</a>\u001b[0m vgg \u001b[39m=\u001b[39m vgg19(pretrained\u001b[39m=\u001b[39m\u001b[39mTrue\u001b[39;00m)\u001b[39m.\u001b[39mfeatures\n\u001b[1;32m      <a href='vscode-notebook-cell://attached-container%2B7b22636f6e7461696e65724e616d65223a222f6e6577776f726c64222c2273657474696e6773223a7b22686f7374223a227373683a2f2f3139322e3136382e302e323134227d7d/workspace/newworld/makepractice/pytorch_basic/GAN.ipynb#ch0000005vscode-remote?line=4'>5</a>\u001b[0m \u001b[39m#  모델이 학습되지 않도록 레이어 고정\u001b[39;00m\n\u001b[1;32m      <a href='vscode-notebook-cell://attached-container%2B7b22636f6e7461696e65724e616d65223a222f6e6577776f726c64222c2273657474696e6773223a7b22686f7374223a227373683a2f2f3139322e3136382e302e323134227d7d/workspace/newworld/makepractice/pytorch_basic/GAN.ipynb#ch0000005vscode-remote?line=5'>6</a>\u001b[0m \u001b[39mfor\u001b[39;00m param \u001b[39min\u001b[39;00m vgg\u001b[39m.\u001b[39mparameters():\n",
      "\u001b[0;31mNameError\u001b[0m: name 'vgg19' is not defined"
     ]
    }
   ],
   "source": [
    "## 2. VGG 모델 생성\n",
    "# 사전 학습된 VGG 모델 생성\n",
    "vgg = vgg19(pretrained=True).features\n",
    "\n",
    "#  모델이 학습되지 않도록 레이어 고정\n",
    "for param in vgg.parameters():\n",
    "    param.requires_grad = False"
   ]
  },
  {
   "cell_type": "markdown",
   "metadata": {},
   "source": []
  }
 ],
 "metadata": {
  "kernelspec": {
   "display_name": "Python 3.8.10 64-bit",
   "language": "python",
   "name": "python3"
  },
  "language_info": {
   "codemirror_mode": {
    "name": "ipython",
    "version": 3
   },
   "file_extension": ".py",
   "mimetype": "text/x-python",
   "name": "python",
   "nbconvert_exporter": "python",
   "pygments_lexer": "ipython3",
   "version": "3.8.10"
  },
  "orig_nbformat": 4,
  "vscode": {
   "interpreter": {
    "hash": "5b3ded1ccb95c1d9bd405e7b823d9e85424cde40fbb5985eb47e999ef50e15b4"
   }
  }
 },
 "nbformat": 4,
 "nbformat_minor": 2
}
