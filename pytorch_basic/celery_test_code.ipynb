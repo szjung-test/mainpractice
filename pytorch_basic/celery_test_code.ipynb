{
 "cells": [
  {
   "cell_type": "code",
   "execution_count": 2,
   "metadata": {},
   "outputs": [],
   "source": [
    "from celery import Celery\n",
    "import celery\n",
    "\n",
    "def make_celery(app):\n",
    "    celery = celery.Celery('s_celery', broker = app.config['CELERY_BROKER_URL'])\n",
    "    celery.conf.update(app.config)\n",
    "    TaskBase = celery.Task\n",
    "    class ContextTask(TaskBase):\n",
    "        abstract = True\n",
    "        def __call__(self, *args, **kwargs):\n",
    "            with app.app_context():\n",
    "                return TaskBase.__call__(self, *args, **kwargs)\n",
    "    celery.Task = ContextTask\n",
    "    return celery"
   ]
  },
  {
   "cell_type": "code",
   "execution_count": 3,
   "metadata": {},
   "outputs": [
    {
     "ename": "SyntaxError",
     "evalue": "invalid syntax (852280010.py, line 19)",
     "output_type": "error",
     "traceback": [
      "\u001b[0;36m  Input \u001b[0;32mIn [3]\u001b[0;36m\u001b[0m\n\u001b[0;31m    CELERY_RESULT_BASKEND='rabbitmq://loacalhost6666'\u001b[0m\n\u001b[0m    ^\u001b[0m\n\u001b[0;31mSyntaxError\u001b[0m\u001b[0;31m:\u001b[0m invalid syntax\n"
     ]
    }
   ],
   "source": [
    "from celery import Celery\n",
    "from flask import Flask\n",
    "\n",
    "def make_celery(app):\n",
    "    celery = Celery('sj_kr', broker=app.config['CELERY_BROKER_URL'])\n",
    "    celery.conf.update(app.config)\n",
    "    TaskBase = celery.Task\n",
    "    class ContextTask(TaskBase):\n",
    "        abstract = True\n",
    "        def __call__(self, *args, **kwargs):\n",
    "            with app.app_context():\n",
    "                return TaskBase.__call__(self, *args, **kwargs)\n",
    "    celery.Task = ContextTask\n",
    "    return celery\n",
    "\n",
    "app = Flask(__name__)\n",
    "app.config.update(\n",
    "    CELERY_BROKER_URL='rabbitmq://localhost:6666'\n",
    "    CELERY_RESULT_BACKEND='rabbitmq://loacalhost6666'\n",
    ")\n",
    "\n",
    "celery = make_celery(app)\n",
    "\n",
    "\n",
    "@celery.task()\n",
    "def add_togeter(a,b):\n",
    "    return a+b"
   ]
  },
  {
   "cell_type": "code",
   "execution_count": null,
   "metadata": {},
   "outputs": [],
   "source": []
  }
 ],
 "metadata": {
  "kernelspec": {
   "display_name": "Python 3.8.10 64-bit",
   "language": "python",
   "name": "python3"
  },
  "language_info": {
   "codemirror_mode": {
    "name": "ipython",
    "version": 3
   },
   "file_extension": ".py",
   "mimetype": "text/x-python",
   "name": "python",
   "nbconvert_exporter": "python",
   "pygments_lexer": "ipython3",
   "version": "3.8.10"
  },
  "orig_nbformat": 4,
  "vscode": {
   "interpreter": {
    "hash": "5b3ded1ccb95c1d9bd405e7b823d9e85424cde40fbb5985eb47e999ef50e15b4"
   }
  }
 },
 "nbformat": 4,
 "nbformat_minor": 2
}
