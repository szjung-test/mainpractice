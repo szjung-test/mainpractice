{
 "cells": [
  {
   "cell_type": "markdown",
   "metadata": {},
   "source": [
    "# [HTTP] HTTP 란?\n",
    "1. 클라이언트(브라우저)와 서버\n",
    "- 웹에 대해 이해하기 위해서는 클라이언트(Client)와 서버(Server)\n",
    "- 클라이언트는 서버에 요청(Request)을 보내는 쪽을 의미\n",
    "- 서버는 클라이언트에 요청에 응답(Response)하는 쪽을 의미\n",
    "- 클라이언트와 서버가 상호작용하는 과정 = 웹\n",
    "\n",
    "2. HTTP 프로토콜\n",
    "- 웹에서 브라우저와 서버 간에 데이터를 주고 받는 약속\n",
    "- 프로토콜이란 상호 간에 정의한 규칙 의미\n",
    "- 브라우저와 서버 간에 데이터를 주고받기 위한 방식 HTTP 프로토콜 사용\n",
    "\n",
    "3. URL\n",
    "- 서버에 자원을 요청하기 위해 입력하는 영문 주소\n",
    "- 숫자로 되어 있는 IP 주소 보다 훨씬 기억하기 쉽기 때문에 주로 사용\n",
    "- protocol / host / port / resource path / query\n",
    "\n",
    "- ![URL 구조](https://velog.velcdn.com/images%2Frimu%2Fpost%2Ff2841c83-26b3-421e-bb93-3bd36d4aaa2b%2F%E1%84%89%E1%85%B3%E1%84%8F%E1%85%B3%E1%84%85%E1%85%B5%E1%86%AB%E1%84%89%E1%85%A3%E1%86%BA%202020-04-06%20%E1%84%8B%E1%85%A9%E1%84%8C%E1%85%A5%E1%86%AB%2011.50.15.png \"URL 구조\")\n",
    "\n",
    "4. 클라이언트의 요청: HTTP Request 요청 메서드\n",
    "- 클라이언트가 서버에 데이터를 요청(Request)하는 것은 주문서를 작성하는 것과 같다.\n",
    "- 주문서는 서버가 클라이언트가 어떤걸 원하는지 파악할 수 있게 해준다.\n",
    "- Request는 데이터에 특정 동작을 하도록 하기 위해서 HTTP 요청 메서드(HTTP Request Methods)\n",
    "- HTTP 요청 메서드는 HTTP Verbs 라고도 부르고 아래와 같은 메서드를 갖고 있다.\n",
    "- ajax 에 대한 공부할 때 이미 한번 봤다.\n",
    "\n",
    "- GET: 존재하는 자원에 대한 요청\n",
    "- POST: 새로운 자원을 생성\n",
    "- PUT: 존재하는 자원에 대한 변경\n",
    "- DELETE: 존재하는 자원에 대한 삭제\n",
    "- HEAD: 서버 헤더 정보를 획득, GET과 비슷하나 Response Body 반환하지 않음\n",
    "- OPTIONS: 서버 옵션들을 확인하기 위한 요청, CORS 사용\n",
    "\n",
    "5. 서버의 응답: HTTP 메시지와 상태코드\n",
    "5-1. HTTP 메시지\n",
    "- 요청 : 클라이언트가 서버에 Request 요청하고, 서버도 응답에 대한 정보를 담아 클라이언트로 보내는 것\n",
    "- http 메시지와 데이터 요청에 대한 응답 http 메시지가 있다.\n"
   ]
  },
  {
   "cell_type": "markdown",
   "metadata": {},
   "source": []
  }
 ],
 "metadata": {
  "language_info": {
   "name": "python"
  },
  "orig_nbformat": 4
 },
 "nbformat": 4,
 "nbformat_minor": 2
}
